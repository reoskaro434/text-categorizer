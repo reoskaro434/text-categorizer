{
 "cells": [
  {
   "cell_type": "code",
   "execution_count": 12,
   "metadata": {
    "ExecuteTime": {
     "end_time": "2024-02-04T19:18:56.862965300Z",
     "start_time": "2024-02-04T19:18:55.126421500Z"
    }
   },
   "outputs": [
    {
     "name": "stdout",
     "output_type": "stream",
     "text": [
      "<class 'pandas.core.frame.DataFrame'>\n",
      "RangeIndex: 25763 entries, 0 to 25762\n",
      "Columns: 1102 entries, Unnamed: 0 to tag\n",
      "dtypes: float64(1100), int64(1), object(1)\n",
      "memory usage: 216.6+ MB\n"
     ]
    }
   ],
   "source": [
    "import pandas as pd\n",
    "\n",
    "df = pd.read_csv('../../output_data/4_2_vectorized_ds_glove_25.csv')\n",
    "\n",
    "df.info()"
   ]
  },
  {
   "cell_type": "code",
   "execution_count": 13,
   "metadata": {
    "ExecuteTime": {
     "end_time": "2024-02-04T19:18:57.031306100Z",
     "start_time": "2024-02-04T19:18:56.862965300Z"
    }
   },
   "outputs": [],
   "source": [
    "# The KNN algorythm does not take NaN values\n",
    "df = df.fillna(0)"
   ]
  },
  {
   "cell_type": "code",
   "execution_count": 14,
   "metadata": {
    "ExecuteTime": {
     "end_time": "2024-02-04T19:18:57.050629300Z",
     "start_time": "2024-02-04T19:18:57.046541400Z"
    }
   },
   "outputs": [
    {
     "data": {
      "text/html": [
       "<div>\n",
       "<style scoped>\n",
       "    .dataframe tbody tr th:only-of-type {\n",
       "        vertical-align: middle;\n",
       "    }\n",
       "\n",
       "    .dataframe tbody tr th {\n",
       "        vertical-align: top;\n",
       "    }\n",
       "\n",
       "    .dataframe thead th {\n",
       "        text-align: right;\n",
       "    }\n",
       "</style>\n",
       "<table border=\"1\" class=\"dataframe\">\n",
       "  <thead>\n",
       "    <tr style=\"text-align: right;\">\n",
       "      <th></th>\n",
       "      <th>Unnamed: 0</th>\n",
       "      <th>input_0</th>\n",
       "      <th>input_1</th>\n",
       "      <th>input_2</th>\n",
       "      <th>input_3</th>\n",
       "      <th>input_4</th>\n",
       "      <th>input_5</th>\n",
       "      <th>input_6</th>\n",
       "      <th>input_7</th>\n",
       "      <th>input_8</th>\n",
       "      <th>...</th>\n",
       "      <th>input_1091</th>\n",
       "      <th>input_1092</th>\n",
       "      <th>input_1093</th>\n",
       "      <th>input_1094</th>\n",
       "      <th>input_1095</th>\n",
       "      <th>input_1096</th>\n",
       "      <th>input_1097</th>\n",
       "      <th>input_1098</th>\n",
       "      <th>input_1099</th>\n",
       "      <th>tag</th>\n",
       "    </tr>\n",
       "  </thead>\n",
       "  <tbody>\n",
       "    <tr>\n",
       "      <th>0</th>\n",
       "      <td>0</td>\n",
       "      <td>0.035234</td>\n",
       "      <td>0.54248</td>\n",
       "      <td>-0.75981</td>\n",
       "      <td>-0.029171</td>\n",
       "      <td>1.94140</td>\n",
       "      <td>-0.17883</td>\n",
       "      <td>0.25397</td>\n",
       "      <td>0.49265</td>\n",
       "      <td>-0.00256</td>\n",
       "      <td>...</td>\n",
       "      <td>0.0</td>\n",
       "      <td>0.0</td>\n",
       "      <td>0.0</td>\n",
       "      <td>0.0</td>\n",
       "      <td>0.0</td>\n",
       "      <td>0.0</td>\n",
       "      <td>0.0</td>\n",
       "      <td>0.0</td>\n",
       "      <td>0.0</td>\n",
       "      <td>COMMUNITY</td>\n",
       "    </tr>\n",
       "    <tr>\n",
       "      <th>1</th>\n",
       "      <td>1</td>\n",
       "      <td>-0.398190</td>\n",
       "      <td>0.92849</td>\n",
       "      <td>1.11940</td>\n",
       "      <td>-0.132170</td>\n",
       "      <td>-0.29808</td>\n",
       "      <td>-0.52848</td>\n",
       "      <td>1.06140</td>\n",
       "      <td>-0.70803</td>\n",
       "      <td>-0.48539</td>\n",
       "      <td>...</td>\n",
       "      <td>0.0</td>\n",
       "      <td>0.0</td>\n",
       "      <td>0.0</td>\n",
       "      <td>0.0</td>\n",
       "      <td>0.0</td>\n",
       "      <td>0.0</td>\n",
       "      <td>0.0</td>\n",
       "      <td>0.0</td>\n",
       "      <td>0.0</td>\n",
       "      <td>ENVIRONMENT</td>\n",
       "    </tr>\n",
       "    <tr>\n",
       "      <th>2</th>\n",
       "      <td>2</td>\n",
       "      <td>-0.942140</td>\n",
       "      <td>-0.24345</td>\n",
       "      <td>0.20744</td>\n",
       "      <td>0.214930</td>\n",
       "      <td>-1.06640</td>\n",
       "      <td>1.19490</td>\n",
       "      <td>1.52340</td>\n",
       "      <td>-0.16527</td>\n",
       "      <td>0.35522</td>\n",
       "      <td>...</td>\n",
       "      <td>0.0</td>\n",
       "      <td>0.0</td>\n",
       "      <td>0.0</td>\n",
       "      <td>0.0</td>\n",
       "      <td>0.0</td>\n",
       "      <td>0.0</td>\n",
       "      <td>0.0</td>\n",
       "      <td>0.0</td>\n",
       "      <td>0.0</td>\n",
       "      <td>RELAX</td>\n",
       "    </tr>\n",
       "    <tr>\n",
       "      <th>3</th>\n",
       "      <td>3</td>\n",
       "      <td>-1.074400</td>\n",
       "      <td>-0.88249</td>\n",
       "      <td>0.27640</td>\n",
       "      <td>0.647550</td>\n",
       "      <td>-0.35475</td>\n",
       "      <td>0.25591</td>\n",
       "      <td>-0.70326</td>\n",
       "      <td>-1.00450</td>\n",
       "      <td>1.19360</td>\n",
       "      <td>...</td>\n",
       "      <td>0.0</td>\n",
       "      <td>0.0</td>\n",
       "      <td>0.0</td>\n",
       "      <td>0.0</td>\n",
       "      <td>0.0</td>\n",
       "      <td>0.0</td>\n",
       "      <td>0.0</td>\n",
       "      <td>0.0</td>\n",
       "      <td>0.0</td>\n",
       "      <td>TRAVEL</td>\n",
       "    </tr>\n",
       "    <tr>\n",
       "      <th>4</th>\n",
       "      <td>4</td>\n",
       "      <td>-0.177000</td>\n",
       "      <td>0.43200</td>\n",
       "      <td>0.21391</td>\n",
       "      <td>-0.295150</td>\n",
       "      <td>0.47344</td>\n",
       "      <td>-0.38013</td>\n",
       "      <td>1.60180</td>\n",
       "      <td>0.56238</td>\n",
       "      <td>0.40478</td>\n",
       "      <td>...</td>\n",
       "      <td>0.0</td>\n",
       "      <td>0.0</td>\n",
       "      <td>0.0</td>\n",
       "      <td>0.0</td>\n",
       "      <td>0.0</td>\n",
       "      <td>0.0</td>\n",
       "      <td>0.0</td>\n",
       "      <td>0.0</td>\n",
       "      <td>0.0</td>\n",
       "      <td>ASTRONOMY</td>\n",
       "    </tr>\n",
       "  </tbody>\n",
       "</table>\n",
       "<p>5 rows × 1102 columns</p>\n",
       "</div>"
      ],
      "text/plain": [
       "   Unnamed: 0   input_0  input_1  input_2   input_3  input_4  input_5  \\\n",
       "0           0  0.035234  0.54248 -0.75981 -0.029171  1.94140 -0.17883   \n",
       "1           1 -0.398190  0.92849  1.11940 -0.132170 -0.29808 -0.52848   \n",
       "2           2 -0.942140 -0.24345  0.20744  0.214930 -1.06640  1.19490   \n",
       "3           3 -1.074400 -0.88249  0.27640  0.647550 -0.35475  0.25591   \n",
       "4           4 -0.177000  0.43200  0.21391 -0.295150  0.47344 -0.38013   \n",
       "\n",
       "   input_6  input_7  input_8  ...  input_1091  input_1092  input_1093  \\\n",
       "0  0.25397  0.49265 -0.00256  ...         0.0         0.0         0.0   \n",
       "1  1.06140 -0.70803 -0.48539  ...         0.0         0.0         0.0   \n",
       "2  1.52340 -0.16527  0.35522  ...         0.0         0.0         0.0   \n",
       "3 -0.70326 -1.00450  1.19360  ...         0.0         0.0         0.0   \n",
       "4  1.60180  0.56238  0.40478  ...         0.0         0.0         0.0   \n",
       "\n",
       "   input_1094  input_1095  input_1096  input_1097  input_1098  input_1099  \\\n",
       "0         0.0         0.0         0.0         0.0         0.0         0.0   \n",
       "1         0.0         0.0         0.0         0.0         0.0         0.0   \n",
       "2         0.0         0.0         0.0         0.0         0.0         0.0   \n",
       "3         0.0         0.0         0.0         0.0         0.0         0.0   \n",
       "4         0.0         0.0         0.0         0.0         0.0         0.0   \n",
       "\n",
       "           tag  \n",
       "0    COMMUNITY  \n",
       "1  ENVIRONMENT  \n",
       "2        RELAX  \n",
       "3       TRAVEL  \n",
       "4    ASTRONOMY  \n",
       "\n",
       "[5 rows x 1102 columns]"
      ]
     },
     "execution_count": 14,
     "metadata": {},
     "output_type": "execute_result"
    }
   ],
   "source": [
    "df.head()"
   ]
  },
  {
   "cell_type": "code",
   "execution_count": 15,
   "metadata": {
    "ExecuteTime": {
     "end_time": "2024-02-04T19:18:58.880796Z",
     "start_time": "2024-02-04T19:18:57.049615500Z"
    }
   },
   "outputs": [
    {
     "name": "stdout",
     "output_type": "stream",
     "text": [
      "Accuracy: 0.2938094313991849\n",
      "y_train lenght: 20610\n",
      "y_test lenght: 5153\n",
      "k: 3\n"
     ]
    }
   ],
   "source": [
    "from sklearn.model_selection import train_test_split\n",
    "from sklearn.neighbors import KNeighborsClassifier\n",
    "from sklearn import metrics\n",
    "from sklearn.preprocessing import LabelEncoder\n",
    "\n",
    "# Wcześniejsze pobieranie wartości ze zbioru danych\n",
    "# X = df.iloc[:, :-1] \n",
    "# y = df.iloc[:, -1]  \n",
    "\n",
    "# Poprawne pobranie wartości\n",
    "X = df.drop(['tag', 'Unnamed: 0'], axis=1)\n",
    "y = df['tag']\n",
    "\n",
    "label_encoder = LabelEncoder()\n",
    "y_numerical = label_encoder.fit_transform(y)\n",
    "\n",
    "\n",
    "X_train, X_test, y_train, y_test = train_test_split(X, y_numerical, test_size=0.2, random_state=42)\n",
    "\n",
    "k = 3\n",
    "\n",
    "knn = KNeighborsClassifier(n_neighbors=k)\n",
    "\n",
    "knn.fit(X_train, y_train)\n",
    "\n",
    "y_pred = knn.predict(X_test)\n",
    "\n",
    "accuracy = metrics.accuracy_score(y_test, y_pred)\n",
    "\n",
    "print(f\"Accuracy: {accuracy}\")\n",
    "print(f\"y_train lenght: {len(y_train)}\")\n",
    "print(f\"y_test lenght: {len(y_test)}\")\n",
    "print(f\"k: {k}\")\n"
   ]
  },
  {
   "cell_type": "code",
   "execution_count": 16,
   "metadata": {
    "ExecuteTime": {
     "end_time": "2024-02-04T19:19:00.562806200Z",
     "start_time": "2024-02-04T19:18:58.879776700Z"
    }
   },
   "outputs": [
    {
     "name": "stdout",
     "output_type": "stream",
     "text": [
      "Accuracy: 0.3182612070638463\n",
      "y_train lenght: 20610\n",
      "y_test lenght: 5153\n",
      "k: 5\n"
     ]
    }
   ],
   "source": [
    "from sklearn.model_selection import train_test_split\n",
    "from sklearn.neighbors import KNeighborsClassifier\n",
    "from sklearn import metrics\n",
    "from sklearn.preprocessing import LabelEncoder\n",
    "\n",
    "X = df.drop(['tag', 'Unnamed: 0'], axis=1)\n",
    "y = df['tag']\n",
    "\n",
    "label_encoder = LabelEncoder()\n",
    "y_numerical = label_encoder.fit_transform(y)\n",
    "\n",
    "\n",
    "X_train, X_test, y_train, y_test = train_test_split(X, y_numerical, test_size=0.2, random_state=42)\n",
    "\n",
    "k = 5\n",
    "\n",
    "knn = KNeighborsClassifier(n_neighbors=k)\n",
    "\n",
    "knn.fit(X_train, y_train)\n",
    "\n",
    "y_pred = knn.predict(X_test)\n",
    "\n",
    "accuracy = metrics.accuracy_score(y_test, y_pred)\n",
    "\n",
    "print(f\"Accuracy: {accuracy}\")\n",
    "print(f\"y_train lenght: {len(y_train)}\")\n",
    "print(f\"y_test lenght: {len(y_test)}\")\n",
    "print(f\"k: {k}\")\n"
   ]
  },
  {
   "cell_type": "code",
   "execution_count": 17,
   "metadata": {
    "ExecuteTime": {
     "end_time": "2024-02-04T19:19:02.171931100Z",
     "start_time": "2024-02-04T19:19:00.561795200Z"
    }
   },
   "outputs": [
    {
     "name": "stdout",
     "output_type": "stream",
     "text": [
      "Accuracy: 0.3089462449058801\n",
      "y_train lenght: 20610\n",
      "y_test lenght: 5153\n",
      "k: 1\n"
     ]
    }
   ],
   "source": [
    "from sklearn.model_selection import train_test_split\n",
    "from sklearn.neighbors import KNeighborsClassifier\n",
    "from sklearn import metrics\n",
    "from sklearn.preprocessing import LabelEncoder\n",
    "\n",
    "X = df.drop(['tag', 'Unnamed: 0'], axis=1)\n",
    "y = df['tag']\n",
    "\n",
    "label_encoder = LabelEncoder()\n",
    "y_numerical = label_encoder.fit_transform(y)\n",
    "\n",
    "\n",
    "X_train, X_test, y_train, y_test = train_test_split(X, y_numerical, test_size=0.2, random_state=42)\n",
    "\n",
    "k = 1\n",
    "\n",
    "knn = KNeighborsClassifier(n_neighbors=k)\n",
    "\n",
    "knn.fit(X_train, y_train)\n",
    "\n",
    "y_pred = knn.predict(X_test)\n",
    "\n",
    "accuracy = metrics.accuracy_score(y_test, y_pred)\n",
    "\n",
    "print(f\"Accuracy: {accuracy}\")\n",
    "print(f\"y_train lenght: {len(y_train)}\")\n",
    "print(f\"y_test lenght: {len(y_test)}\")\n",
    "print(f\"k: {k}\")"
   ]
  },
  {
   "cell_type": "code",
   "execution_count": 18,
   "metadata": {
    "ExecuteTime": {
     "end_time": "2024-02-04T19:19:02.898047700Z",
     "start_time": "2024-02-04T19:19:02.171931100Z"
    }
   },
   "outputs": [
    {
     "name": "stdout",
     "output_type": "stream",
     "text": [
      "Accuracy: 0.317300232738557\n",
      "y_train lenght: 24474\n",
      "y_test lenght: 1289\n",
      "k: 3\n"
     ]
    }
   ],
   "source": [
    "from sklearn.model_selection import train_test_split\n",
    "from sklearn.neighbors import KNeighborsClassifier\n",
    "from sklearn import metrics\n",
    "from sklearn.preprocessing import LabelEncoder\n",
    "\n",
    "X = df.drop(['tag', 'Unnamed: 0'], axis=1)\n",
    "y = df['tag']\n",
    "\n",
    "label_encoder = LabelEncoder()\n",
    "y_numerical = label_encoder.fit_transform(y)\n",
    "\n",
    "\n",
    "X_train, X_test, y_train, y_test = train_test_split(X, y_numerical, test_size=0.05, random_state=42)\n",
    "\n",
    "k = 3\n",
    "\n",
    "knn = KNeighborsClassifier(n_neighbors=k)\n",
    "\n",
    "knn.fit(X_train, y_train)\n",
    "\n",
    "y_pred = knn.predict(X_test)\n",
    "\n",
    "accuracy = metrics.accuracy_score(y_test, y_pred)\n",
    "\n",
    "print(f\"Accuracy: {accuracy}\")\n",
    "print(f\"y_train lenght: {len(y_train)}\")\n",
    "print(f\"y_test lenght: {len(y_test)}\")\n",
    "print(f\"k: {k}\")"
   ]
  },
  {
   "cell_type": "code",
   "execution_count": 24,
   "metadata": {
    "ExecuteTime": {
     "end_time": "2024-02-04T21:11:42.984016500Z",
     "start_time": "2024-02-04T21:11:42.072135600Z"
    }
   },
   "outputs": [
    {
     "name": "stdout",
     "output_type": "stream",
     "text": [
      "Accuracy: 0.3359193173002327\n",
      "y_train lenght: 24474\n",
      "y_test lenght: 1289\n",
      "k: 5\n"
     ]
    }
   ],
   "source": [
    "from sklearn.model_selection import train_test_split\n",
    "from sklearn.neighbors import KNeighborsClassifier\n",
    "from sklearn import metrics\n",
    "from sklearn.preprocessing import LabelEncoder\n",
    "\n",
    "X = df.drop(['tag', 'Unnamed: 0'], axis=1)\n",
    "y = df['tag']\n",
    "\n",
    "label_encoder = LabelEncoder()\n",
    "y_numerical = label_encoder.fit_transform(y)\n",
    "\n",
    "\n",
    "X_train, X_test, y_train, y_test = train_test_split(X, y_numerical, test_size=0.05, random_state=42)\n",
    "\n",
    "k = 5\n",
    "\n",
    "knn = KNeighborsClassifier(n_neighbors=k)\n",
    "\n",
    "knn.fit(X_train, y_train)\n",
    "\n",
    "y_pred = knn.predict(X_test)\n",
    "\n",
    "accuracy = metrics.accuracy_score(y_test, y_pred)\n",
    "\n",
    "print(f\"Accuracy: {accuracy}\")\n",
    "print(f\"y_train lenght: {len(y_train)}\")\n",
    "print(f\"y_test lenght: {len(y_test)}\")\n",
    "print(f\"k: {k}\")"
   ]
  },
  {
   "cell_type": "code",
   "execution_count": 25,
   "outputs": [],
   "source": [
    "import pickle\n",
    "\n",
    "with open('knn_model.pkl', 'wb') as file:\n",
    "    pickle.dump(knn, file)"
   ],
   "metadata": {
    "collapsed": false,
    "ExecuteTime": {
     "end_time": "2024-02-04T21:11:44.260080600Z",
     "start_time": "2024-02-04T21:11:44.121952400Z"
    }
   }
  },
  {
   "cell_type": "code",
   "execution_count": 20,
   "metadata": {
    "ExecuteTime": {
     "end_time": "2024-02-04T19:19:04.171971400Z",
     "start_time": "2024-02-04T19:19:03.536701500Z"
    }
   },
   "outputs": [
    {
     "name": "stdout",
     "output_type": "stream",
     "text": [
      "Accuracy: 0.3165244375484872\n",
      "y_train lenght: 24474\n",
      "y_test lenght: 1289\n",
      "k: 1\n"
     ]
    }
   ],
   "source": [
    "from sklearn.model_selection import train_test_split\n",
    "from sklearn.neighbors import KNeighborsClassifier\n",
    "from sklearn import metrics\n",
    "from sklearn.preprocessing import LabelEncoder\n",
    "\n",
    "X = df.drop(['tag', 'Unnamed: 0'], axis=1)\n",
    "y = df['tag']\n",
    "\n",
    "label_encoder = LabelEncoder()\n",
    "y_numerical = label_encoder.fit_transform(y)\n",
    "\n",
    "\n",
    "X_train, X_test, y_train, y_test = train_test_split(X, y_numerical, test_size=0.05, random_state=42)\n",
    "\n",
    "k = 1\n",
    "\n",
    "knn = KNeighborsClassifier(n_neighbors=k)\n",
    "\n",
    "knn.fit(X_train, y_train)\n",
    "\n",
    "y_pred = knn.predict(X_test)\n",
    "\n",
    "accuracy = metrics.accuracy_score(y_test, y_pred)\n",
    "\n",
    "print(f\"Accuracy: {accuracy}\")\n",
    "print(f\"y_train lenght: {len(y_train)}\")\n",
    "print(f\"y_test lenght: {len(y_test)}\")\n",
    "print(f\"k: {k}\")"
   ]
  },
  {
   "cell_type": "code",
   "execution_count": 21,
   "metadata": {
    "ExecuteTime": {
     "end_time": "2024-02-04T19:19:04.184172700Z",
     "start_time": "2024-02-04T19:19:04.173482400Z"
    },
    "collapsed": false
   },
   "outputs": [],
   "source": [
    "import pickle\n",
    "\n",
    "with open('knn_model.pkl', 'wb') as file:\n",
    "    pickle.dump(knn, file)"
   ]
  },
  {
   "cell_type": "code",
   "execution_count": 21,
   "metadata": {
    "ExecuteTime": {
     "end_time": "2024-02-04T19:19:04.184172700Z",
     "start_time": "2024-02-04T19:19:04.177590400Z"
    },
    "collapsed": false
   },
   "outputs": [],
   "source": []
  }
 ],
 "metadata": {
  "kernelspec": {
   "display_name": "Python 3",
   "language": "python",
   "name": "python3"
  },
  "language_info": {
   "codemirror_mode": {
    "name": "ipython",
    "version": 3
   },
   "file_extension": ".py",
   "mimetype": "text/x-python",
   "name": "python",
   "nbconvert_exporter": "python",
   "pygments_lexer": "ipython3",
   "version": "3.11.5"
  },
  "orig_nbformat": 4
 },
 "nbformat": 4,
 "nbformat_minor": 2
}
