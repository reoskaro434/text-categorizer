{
 "cells": [
  {
   "cell_type": "code",
   "execution_count": 1,
   "metadata": {},
   "outputs": [],
   "source": [
    "import pandas as pd\n",
    "import nltk"
   ]
  },
  {
   "cell_type": "code",
   "execution_count": 2,
   "metadata": {},
   "outputs": [],
   "source": [
    "df = pd.read_json('../../output_data/2_tc_nltk_preprocessed.json')"
   ]
  },
  {
   "cell_type": "code",
   "execution_count": 3,
   "metadata": {},
   "outputs": [
    {
     "name": "stdout",
     "output_type": "stream",
     "text": [
      "<class 'pandas.core.frame.DataFrame'>\n",
      "RangeIndex: 25763 entries, 0 to 25762\n",
      "Data columns (total 7 columns):\n",
      " #   Column           Non-Null Count  Dtype \n",
      "---  ------           --------------  ----- \n",
      " 0   title            25763 non-null  object\n",
      " 1   tag              25763 non-null  object\n",
      " 2   s1_title_lower   25763 non-null  object\n",
      " 3   s2_clean_title   25763 non-null  object\n",
      " 4   s3_tokenized     25763 non-null  object\n",
      " 5   s4_no_stopwords  25763 non-null  object\n",
      " 6   s5_lemmatized    25763 non-null  object\n",
      "dtypes: object(7)\n",
      "memory usage: 1.4+ MB\n"
     ]
    }
   ],
   "source": [
    "df.info()"
   ]
  },
  {
   "cell_type": "code",
   "execution_count": 4,
   "metadata": {},
   "outputs": [
    {
     "data": {
      "text/html": [
       "<div>\n",
       "<style scoped>\n",
       "    .dataframe tbody tr th:only-of-type {\n",
       "        vertical-align: middle;\n",
       "    }\n",
       "\n",
       "    .dataframe tbody tr th {\n",
       "        vertical-align: top;\n",
       "    }\n",
       "\n",
       "    .dataframe thead th {\n",
       "        text-align: right;\n",
       "    }\n",
       "</style>\n",
       "<table border=\"1\" class=\"dataframe\">\n",
       "  <thead>\n",
       "    <tr style=\"text-align: right;\">\n",
       "      <th></th>\n",
       "      <th>title</th>\n",
       "      <th>tag</th>\n",
       "      <th>s1_title_lower</th>\n",
       "      <th>s2_clean_title</th>\n",
       "      <th>s3_tokenized</th>\n",
       "      <th>s4_no_stopwords</th>\n",
       "      <th>s5_lemmatized</th>\n",
       "    </tr>\n",
       "  </thead>\n",
       "  <tbody>\n",
       "    <tr>\n",
       "      <th>0</th>\n",
       "      <td>My personal ranking of Community's use of alte...</td>\n",
       "      <td>COMMUNITY</td>\n",
       "      <td>my personal ranking of community's use of alte...</td>\n",
       "      <td>my personal ranking of communitys use of alter...</td>\n",
       "      <td>[my, personal, ranking, of, communitys, use, o...</td>\n",
       "      <td>[personal, ranking, communitys, use, alternati...</td>\n",
       "      <td>[personal, ranking, community, use, alternativ...</td>\n",
       "    </tr>\n",
       "    <tr>\n",
       "      <th>1</th>\n",
       "      <td>It took 30 years for climate tech investments ...</td>\n",
       "      <td>ENVIRONMENT</td>\n",
       "      <td>it took 30 years for climate tech investments ...</td>\n",
       "      <td>it took 30 years for climate tech investments ...</td>\n",
       "      <td>[it, took, 30, years, for, climate, tech, inve...</td>\n",
       "      <td>[took, 30, years, climate, tech, investments, ...</td>\n",
       "      <td>[took, 30, year, climate, tech, investment, pa...</td>\n",
       "    </tr>\n",
       "    <tr>\n",
       "      <th>2</th>\n",
       "      <td>Rain when sitting in a car</td>\n",
       "      <td>RELAX</td>\n",
       "      <td>rain when sitting in a car</td>\n",
       "      <td>rain when sitting in a car</td>\n",
       "      <td>[rain, when, sitting, in, a, car]</td>\n",
       "      <td>[rain, sitting, car]</td>\n",
       "      <td>[rain, sitting, car]</td>\n",
       "    </tr>\n",
       "    <tr>\n",
       "      <th>3</th>\n",
       "      <td>Is Cassis worth staying in?</td>\n",
       "      <td>TRAVEL</td>\n",
       "      <td>is cassis worth staying in?</td>\n",
       "      <td>is cassis worth staying in</td>\n",
       "      <td>[is, cassis, worth, staying, in]</td>\n",
       "      <td>[cassis, worth, staying]</td>\n",
       "      <td>[cassis, worth, staying]</td>\n",
       "    </tr>\n",
       "  </tbody>\n",
       "</table>\n",
       "</div>"
      ],
      "text/plain": [
       "                                               title          tag  \\\n",
       "0  My personal ranking of Community's use of alte...    COMMUNITY   \n",
       "1  It took 30 years for climate tech investments ...  ENVIRONMENT   \n",
       "2                         Rain when sitting in a car        RELAX   \n",
       "3                        Is Cassis worth staying in?       TRAVEL   \n",
       "\n",
       "                                      s1_title_lower  \\\n",
       "0  my personal ranking of community's use of alte...   \n",
       "1  it took 30 years for climate tech investments ...   \n",
       "2                         rain when sitting in a car   \n",
       "3                        is cassis worth staying in?   \n",
       "\n",
       "                                      s2_clean_title  \\\n",
       "0  my personal ranking of communitys use of alter...   \n",
       "1  it took 30 years for climate tech investments ...   \n",
       "2                         rain when sitting in a car   \n",
       "3                         is cassis worth staying in   \n",
       "\n",
       "                                        s3_tokenized  \\\n",
       "0  [my, personal, ranking, of, communitys, use, o...   \n",
       "1  [it, took, 30, years, for, climate, tech, inve...   \n",
       "2                  [rain, when, sitting, in, a, car]   \n",
       "3                   [is, cassis, worth, staying, in]   \n",
       "\n",
       "                                     s4_no_stopwords  \\\n",
       "0  [personal, ranking, communitys, use, alternati...   \n",
       "1  [took, 30, years, climate, tech, investments, ...   \n",
       "2                               [rain, sitting, car]   \n",
       "3                           [cassis, worth, staying]   \n",
       "\n",
       "                                       s5_lemmatized  \n",
       "0  [personal, ranking, community, use, alternativ...  \n",
       "1  [took, 30, year, climate, tech, investment, pa...  \n",
       "2                               [rain, sitting, car]  \n",
       "3                           [cassis, worth, staying]  "
      ]
     },
     "execution_count": 4,
     "metadata": {},
     "output_type": "execute_result"
    }
   ],
   "source": [
    "df.head(4)"
   ]
  },
  {
   "cell_type": "code",
   "execution_count": 5,
   "metadata": {},
   "outputs": [
    {
     "data": {
      "text/html": [
       "<div>\n",
       "<style scoped>\n",
       "    .dataframe tbody tr th:only-of-type {\n",
       "        vertical-align: middle;\n",
       "    }\n",
       "\n",
       "    .dataframe tbody tr th {\n",
       "        vertical-align: top;\n",
       "    }\n",
       "\n",
       "    .dataframe thead th {\n",
       "        text-align: right;\n",
       "    }\n",
       "</style>\n",
       "<table border=\"1\" class=\"dataframe\">\n",
       "  <thead>\n",
       "    <tr style=\"text-align: right;\">\n",
       "      <th></th>\n",
       "      <th>lemmatized</th>\n",
       "      <th>tag</th>\n",
       "    </tr>\n",
       "  </thead>\n",
       "  <tbody>\n",
       "    <tr>\n",
       "      <th>0</th>\n",
       "      <td>[personal, ranking, community, use, alternativ...</td>\n",
       "      <td>COMMUNITY</td>\n",
       "    </tr>\n",
       "    <tr>\n",
       "      <th>1</th>\n",
       "      <td>[took, 30, year, climate, tech, investment, pa...</td>\n",
       "      <td>ENVIRONMENT</td>\n",
       "    </tr>\n",
       "    <tr>\n",
       "      <th>2</th>\n",
       "      <td>[rain, sitting, car]</td>\n",
       "      <td>RELAX</td>\n",
       "    </tr>\n",
       "    <tr>\n",
       "      <th>3</th>\n",
       "      <td>[cassis, worth, staying]</td>\n",
       "      <td>TRAVEL</td>\n",
       "    </tr>\n",
       "    <tr>\n",
       "      <th>4</th>\n",
       "      <td>[new, research, suggests, black, hole, may, ac...</td>\n",
       "      <td>ASTRONOMY</td>\n",
       "    </tr>\n",
       "  </tbody>\n",
       "</table>\n",
       "</div>"
      ],
      "text/plain": [
       "                                          lemmatized          tag\n",
       "0  [personal, ranking, community, use, alternativ...    COMMUNITY\n",
       "1  [took, 30, year, climate, tech, investment, pa...  ENVIRONMENT\n",
       "2                               [rain, sitting, car]        RELAX\n",
       "3                           [cassis, worth, staying]       TRAVEL\n",
       "4  [new, research, suggests, black, hole, may, ac...    ASTRONOMY"
      ]
     },
     "execution_count": 5,
     "metadata": {},
     "output_type": "execute_result"
    }
   ],
   "source": [
    "# In order to perform padding, find max token count \n",
    "\n",
    "lemmatized_df = pd.DataFrame({'lemmatized': df['s5_lemmatized'], 'tag': df['tag']})\n",
    "\n",
    "lemmatized_df.head(5)"
   ]
  },
  {
   "cell_type": "code",
   "execution_count": 6,
   "metadata": {},
   "outputs": [
    {
     "data": {
      "text/html": [
       "<div>\n",
       "<style scoped>\n",
       "    .dataframe tbody tr th:only-of-type {\n",
       "        vertical-align: middle;\n",
       "    }\n",
       "\n",
       "    .dataframe tbody tr th {\n",
       "        vertical-align: top;\n",
       "    }\n",
       "\n",
       "    .dataframe thead th {\n",
       "        text-align: right;\n",
       "    }\n",
       "</style>\n",
       "<table border=\"1\" class=\"dataframe\">\n",
       "  <thead>\n",
       "    <tr style=\"text-align: right;\">\n",
       "      <th></th>\n",
       "      <th>lemmatized</th>\n",
       "      <th>tag</th>\n",
       "      <th>token_count</th>\n",
       "    </tr>\n",
       "  </thead>\n",
       "  <tbody>\n",
       "    <tr>\n",
       "      <th>0</th>\n",
       "      <td>[personal, ranking, community, use, alternativ...</td>\n",
       "      <td>COMMUNITY</td>\n",
       "      <td>6</td>\n",
       "    </tr>\n",
       "    <tr>\n",
       "      <th>1</th>\n",
       "      <td>[took, 30, year, climate, tech, investment, pa...</td>\n",
       "      <td>ENVIRONMENT</td>\n",
       "      <td>13</td>\n",
       "    </tr>\n",
       "    <tr>\n",
       "      <th>2</th>\n",
       "      <td>[rain, sitting, car]</td>\n",
       "      <td>RELAX</td>\n",
       "      <td>3</td>\n",
       "    </tr>\n",
       "    <tr>\n",
       "      <th>3</th>\n",
       "      <td>[cassis, worth, staying]</td>\n",
       "      <td>TRAVEL</td>\n",
       "      <td>3</td>\n",
       "    </tr>\n",
       "    <tr>\n",
       "      <th>4</th>\n",
       "      <td>[new, research, suggests, black, hole, may, ac...</td>\n",
       "      <td>ASTRONOMY</td>\n",
       "      <td>10</td>\n",
       "    </tr>\n",
       "  </tbody>\n",
       "</table>\n",
       "</div>"
      ],
      "text/plain": [
       "                                          lemmatized          tag  token_count\n",
       "0  [personal, ranking, community, use, alternativ...    COMMUNITY            6\n",
       "1  [took, 30, year, climate, tech, investment, pa...  ENVIRONMENT           13\n",
       "2                               [rain, sitting, car]        RELAX            3\n",
       "3                           [cassis, worth, staying]       TRAVEL            3\n",
       "4  [new, research, suggests, black, hole, may, ac...    ASTRONOMY           10"
      ]
     },
     "execution_count": 6,
     "metadata": {},
     "output_type": "execute_result"
    }
   ],
   "source": [
    "lemmatized_df['token_count'] = lemmatized_df['lemmatized'].apply(lambda word_list: len(word_list))\n",
    "\n",
    "lemmatized_df.head(5)"
   ]
  },
  {
   "cell_type": "code",
   "execution_count": 7,
   "metadata": {},
   "outputs": [],
   "source": [
    "lemmatized_df.to_json('../../output_data/3_lemmatized_df.json', orient='records',  indent=2)"
   ]
  },
  {
   "cell_type": "code",
   "execution_count": 8,
   "metadata": {},
   "outputs": [
    {
     "name": "stdout",
     "output_type": "stream",
     "text": [
      "max token count: 44\n",
      "supported token count: 44\n"
     ]
    }
   ],
   "source": [
    "import sys\n",
    " \n",
    "sys.path.append('../')\n",
    "from globals import SUPPORTED_NUMBER_OF_TOKENS\n",
    "\n",
    "max_token_count = lemmatized_df['token_count'].max()\n",
    "\n",
    "print('max token count:', max_token_count)\n",
    "\n",
    "\n",
    "# The max is 44, column padding will be adjusted to 50 (manually adjusted by the programmer) here I only print the set value\n",
    "print('supported token count:', SUPPORTED_NUMBER_OF_TOKENS)\n",
    "\n",
    "if SUPPORTED_NUMBER_OF_TOKENS != max_token_count:\n",
    "    raise ValueError('SUPPORTED_NUMBER_OF_TOKENS is not the same as max_token_count!!!')"
   ]
  }
 ],
 "metadata": {
  "kernelspec": {
   "display_name": "Python 3",
   "language": "python",
   "name": "python3"
  },
  "language_info": {
   "codemirror_mode": {
    "name": "ipython",
    "version": 3
   },
   "file_extension": ".py",
   "mimetype": "text/x-python",
   "name": "python",
   "nbconvert_exporter": "python",
   "pygments_lexer": "ipython3",
   "version": "3.11.5"
  },
  "orig_nbformat": 4
 },
 "nbformat": 4,
 "nbformat_minor": 2
}
