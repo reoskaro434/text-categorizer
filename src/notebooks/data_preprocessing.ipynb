{
 "cells": [
  {
   "cell_type": "code",
   "execution_count": 2,
   "metadata": {},
   "outputs": [],
   "source": [
    "# Import global variables\n",
    "\n",
    "import sys\n",
    " \n",
    "sys.path.append('../')\n",
    "\n",
    "from globals import SUBBREDDIT_LIST\n"
   ]
  },
  {
   "cell_type": "code",
   "execution_count": 3,
   "metadata": {},
   "outputs": [],
   "source": [
    "import pandas as pd"
   ]
  },
  {
   "cell_type": "code",
   "execution_count": 4,
   "metadata": {},
   "outputs": [],
   "source": [
    "reddit_data_list = SUBBREDDIT_LIST"
   ]
  },
  {
   "cell_type": "code",
   "execution_count": 5,
   "metadata": {},
   "outputs": [
    {
     "data": {
      "text/html": [
       "<div>\n",
       "<style scoped>\n",
       "    .dataframe tbody tr th:only-of-type {\n",
       "        vertical-align: middle;\n",
       "    }\n",
       "\n",
       "    .dataframe tbody tr th {\n",
       "        vertical-align: top;\n",
       "    }\n",
       "\n",
       "    .dataframe thead th {\n",
       "        text-align: right;\n",
       "    }\n",
       "</style>\n",
       "<table border=\"1\" class=\"dataframe\">\n",
       "  <thead>\n",
       "    <tr style=\"text-align: right;\">\n",
       "      <th></th>\n",
       "      <th>title</th>\n",
       "      <th>link</th>\n",
       "      <th>author</th>\n",
       "      <th>score</th>\n",
       "      <th>created</th>\n",
       "    </tr>\n",
       "  </thead>\n",
       "  <tbody>\n",
       "    <tr>\n",
       "      <th>0</th>\n",
       "      <td>Cardiovascular mortality has improved but is s...</td>\n",
       "      <td>https://www.sciencedirect.com/science/article/...</td>\n",
       "      <td>t2_15td0d</td>\n",
       "      <td>1</td>\n",
       "      <td>1691509822</td>\n",
       "    </tr>\n",
       "    <tr>\n",
       "      <th>1</th>\n",
       "      <td>Study suggests that rise in antibiotic resista...</td>\n",
       "      <td>https://english.elpais.com/science-tech/2023-0...</td>\n",
       "      <td>t2_612zd</td>\n",
       "      <td>1</td>\n",
       "      <td>1691509647</td>\n",
       "    </tr>\n",
       "    <tr>\n",
       "      <th>2</th>\n",
       "      <td>A Crucial Early Warning System for Disease Out...</td>\n",
       "      <td>https://www.wired.com/story/a-crucial-early-wa...</td>\n",
       "      <td>t2_mj011</td>\n",
       "      <td>2</td>\n",
       "      <td>1691506932</td>\n",
       "    </tr>\n",
       "  </tbody>\n",
       "</table>\n",
       "</div>"
      ],
      "text/plain": [
       "                                               title  \\\n",
       "0  Cardiovascular mortality has improved but is s...   \n",
       "1  Study suggests that rise in antibiotic resista...   \n",
       "2  A Crucial Early Warning System for Disease Out...   \n",
       "\n",
       "                                                link     author  score  \\\n",
       "0  https://www.sciencedirect.com/science/article/...  t2_15td0d      1   \n",
       "1  https://english.elpais.com/science-tech/2023-0...   t2_612zd      1   \n",
       "2  https://www.wired.com/story/a-crucial-early-wa...   t2_mj011      2   \n",
       "\n",
       "      created  \n",
       "0  1691509822  \n",
       "1  1691509647  \n",
       "2  1691506932  "
      ]
     },
     "execution_count": 5,
     "metadata": {},
     "output_type": "execute_result"
    }
   ],
   "source": [
    "current_data = reddit_data_list[0]\n",
    "\n",
    "df = pd.read_json(f'../../reddit_data/{current_data}.json')\n",
    "\n",
    "df.head(3)"
   ]
  },
  {
   "cell_type": "code",
   "execution_count": 6,
   "metadata": {},
   "outputs": [
    {
     "name": "stdout",
     "output_type": "stream",
     "text": [
      "<class 'pandas.core.frame.DataFrame'>\n",
      "RangeIndex: 634 entries, 0 to 633\n",
      "Data columns (total 5 columns):\n",
      " #   Column   Non-Null Count  Dtype \n",
      "---  ------   --------------  ----- \n",
      " 0   title    634 non-null    object\n",
      " 1   link     634 non-null    object\n",
      " 2   author   634 non-null    object\n",
      " 3   score    634 non-null    int64 \n",
      " 4   created  634 non-null    int64 \n",
      "dtypes: int64(2), object(3)\n",
      "memory usage: 24.9+ KB\n"
     ]
    }
   ],
   "source": [
    "df.info()"
   ]
  },
  {
   "cell_type": "code",
   "execution_count": 7,
   "metadata": {},
   "outputs": [],
   "source": [
    "# Merge collected\n",
    "\n",
    "df_arr = []\n",
    "\n",
    "for single_data in reddit_data_list:\n",
    "\n",
    "    df = pd.read_json(f'../../reddit_data/{single_data}.json')\n",
    "    df['tag'] = single_data.upper()\n",
    "    df_arr.append(df)\n",
    "\n",
    "merged_df = pd.concat(df_arr)"
   ]
  },
  {
   "cell_type": "code",
   "execution_count": 8,
   "metadata": {},
   "outputs": [
    {
     "name": "stdout",
     "output_type": "stream",
     "text": [
      "<class 'pandas.core.frame.DataFrame'>\n",
      "Index: 25763 entries, 0 to 968\n",
      "Data columns (total 6 columns):\n",
      " #   Column   Non-Null Count  Dtype \n",
      "---  ------   --------------  ----- \n",
      " 0   title    25763 non-null  object\n",
      " 1   link     25763 non-null  object\n",
      " 2   author   25763 non-null  object\n",
      " 3   score    25763 non-null  int64 \n",
      " 4   created  25763 non-null  int64 \n",
      " 5   tag      25763 non-null  object\n",
      "dtypes: int64(2), object(4)\n",
      "memory usage: 1.4+ MB\n"
     ]
    }
   ],
   "source": [
    "merged_df.info()"
   ]
  },
  {
   "cell_type": "code",
   "execution_count": 9,
   "metadata": {},
   "outputs": [
    {
     "data": {
      "text/html": [
       "<div>\n",
       "<style scoped>\n",
       "    .dataframe tbody tr th:only-of-type {\n",
       "        vertical-align: middle;\n",
       "    }\n",
       "\n",
       "    .dataframe tbody tr th {\n",
       "        vertical-align: top;\n",
       "    }\n",
       "\n",
       "    .dataframe thead th {\n",
       "        text-align: right;\n",
       "    }\n",
       "</style>\n",
       "<table border=\"1\" class=\"dataframe\">\n",
       "  <thead>\n",
       "    <tr style=\"text-align: right;\">\n",
       "      <th></th>\n",
       "      <th>title</th>\n",
       "      <th>link</th>\n",
       "      <th>author</th>\n",
       "      <th>score</th>\n",
       "      <th>created</th>\n",
       "      <th>tag</th>\n",
       "    </tr>\n",
       "  </thead>\n",
       "  <tbody>\n",
       "    <tr>\n",
       "      <th>0</th>\n",
       "      <td>Cardiovascular mortality has improved but is s...</td>\n",
       "      <td>https://www.sciencedirect.com/science/article/...</td>\n",
       "      <td>t2_15td0d</td>\n",
       "      <td>1</td>\n",
       "      <td>1691509822</td>\n",
       "      <td>HEALTH</td>\n",
       "    </tr>\n",
       "    <tr>\n",
       "      <th>1</th>\n",
       "      <td>Study suggests that rise in antibiotic resista...</td>\n",
       "      <td>https://english.elpais.com/science-tech/2023-0...</td>\n",
       "      <td>t2_612zd</td>\n",
       "      <td>1</td>\n",
       "      <td>1691509647</td>\n",
       "      <td>HEALTH</td>\n",
       "    </tr>\n",
       "    <tr>\n",
       "      <th>2</th>\n",
       "      <td>A Crucial Early Warning System for Disease Out...</td>\n",
       "      <td>https://www.wired.com/story/a-crucial-early-wa...</td>\n",
       "      <td>t2_mj011</td>\n",
       "      <td>2</td>\n",
       "      <td>1691506932</td>\n",
       "      <td>HEALTH</td>\n",
       "    </tr>\n",
       "  </tbody>\n",
       "</table>\n",
       "</div>"
      ],
      "text/plain": [
       "                                               title  \\\n",
       "0  Cardiovascular mortality has improved but is s...   \n",
       "1  Study suggests that rise in antibiotic resista...   \n",
       "2  A Crucial Early Warning System for Disease Out...   \n",
       "\n",
       "                                                link     author  score  \\\n",
       "0  https://www.sciencedirect.com/science/article/...  t2_15td0d      1   \n",
       "1  https://english.elpais.com/science-tech/2023-0...   t2_612zd      1   \n",
       "2  https://www.wired.com/story/a-crucial-early-wa...   t2_mj011      2   \n",
       "\n",
       "      created     tag  \n",
       "0  1691509822  HEALTH  \n",
       "1  1691509647  HEALTH  \n",
       "2  1691506932  HEALTH  "
      ]
     },
     "execution_count": 9,
     "metadata": {},
     "output_type": "execute_result"
    }
   ],
   "source": [
    "merged_df.head(3)"
   ]
  },
  {
   "cell_type": "code",
   "execution_count": 10,
   "metadata": {},
   "outputs": [
    {
     "data": {
      "text/html": [
       "<div>\n",
       "<style scoped>\n",
       "    .dataframe tbody tr th:only-of-type {\n",
       "        vertical-align: middle;\n",
       "    }\n",
       "\n",
       "    .dataframe tbody tr th {\n",
       "        vertical-align: top;\n",
       "    }\n",
       "\n",
       "    .dataframe thead th {\n",
       "        text-align: right;\n",
       "    }\n",
       "</style>\n",
       "<table border=\"1\" class=\"dataframe\">\n",
       "  <thead>\n",
       "    <tr style=\"text-align: right;\">\n",
       "      <th></th>\n",
       "      <th>title</th>\n",
       "      <th>link</th>\n",
       "      <th>author</th>\n",
       "      <th>score</th>\n",
       "      <th>created</th>\n",
       "      <th>tag</th>\n",
       "    </tr>\n",
       "  </thead>\n",
       "  <tbody>\n",
       "    <tr>\n",
       "      <th>966</th>\n",
       "      <td>How can I tell my parents this without them ta...</td>\n",
       "      <td>https://www.reddit.com/r/relationships/comment...</td>\n",
       "      <td>t2_3damxkfv</td>\n",
       "      <td>1</td>\n",
       "      <td>1690935231</td>\n",
       "      <td>RELATIONSHIPS</td>\n",
       "    </tr>\n",
       "    <tr>\n",
       "      <th>967</th>\n",
       "      <td>Думаю, бросать девушку после такого или дать е...</td>\n",
       "      <td>https://www.reddit.com/r/relationships/comment...</td>\n",
       "      <td>t2_3ykq8iq08</td>\n",
       "      <td>0</td>\n",
       "      <td>1690934937</td>\n",
       "      <td>RELATIONSHIPS</td>\n",
       "    </tr>\n",
       "    <tr>\n",
       "      <th>968</th>\n",
       "      <td>Unable to date because of platonic love</td>\n",
       "      <td>https://www.reddit.com/r/relationships/comment...</td>\n",
       "      <td>t2_gpr2w00tn</td>\n",
       "      <td>1</td>\n",
       "      <td>1690934362</td>\n",
       "      <td>RELATIONSHIPS</td>\n",
       "    </tr>\n",
       "  </tbody>\n",
       "</table>\n",
       "</div>"
      ],
      "text/plain": [
       "                                                 title  \\\n",
       "966  How can I tell my parents this without them ta...   \n",
       "967  Думаю, бросать девушку после такого или дать е...   \n",
       "968            Unable to date because of platonic love   \n",
       "\n",
       "                                                  link        author  score  \\\n",
       "966  https://www.reddit.com/r/relationships/comment...   t2_3damxkfv      1   \n",
       "967  https://www.reddit.com/r/relationships/comment...  t2_3ykq8iq08      0   \n",
       "968  https://www.reddit.com/r/relationships/comment...  t2_gpr2w00tn      1   \n",
       "\n",
       "        created            tag  \n",
       "966  1690935231  RELATIONSHIPS  \n",
       "967  1690934937  RELATIONSHIPS  \n",
       "968  1690934362  RELATIONSHIPS  "
      ]
     },
     "execution_count": 10,
     "metadata": {},
     "output_type": "execute_result"
    }
   ],
   "source": [
    "merged_df.tail(3)"
   ]
  },
  {
   "cell_type": "code",
   "execution_count": 11,
   "metadata": {},
   "outputs": [],
   "source": [
    "merged_df.to_json('../../output_data/merged_reddit_data.json', orient='records', indent=2)"
   ]
  },
  {
   "cell_type": "code",
   "execution_count": 12,
   "metadata": {},
   "outputs": [],
   "source": [
    "shuffled_df = merged_df.sample(frac=1, random_state=1998)\n",
    "shuffled_df.to_json('../../output_data/shuffled_merged_reddit_data.json', orient='records',  indent=2)"
   ]
  },
  {
   "cell_type": "code",
   "execution_count": 13,
   "metadata": {},
   "outputs": [
    {
     "data": {
      "text/html": [
       "<div>\n",
       "<style scoped>\n",
       "    .dataframe tbody tr th:only-of-type {\n",
       "        vertical-align: middle;\n",
       "    }\n",
       "\n",
       "    .dataframe tbody tr th {\n",
       "        vertical-align: top;\n",
       "    }\n",
       "\n",
       "    .dataframe thead th {\n",
       "        text-align: right;\n",
       "    }\n",
       "</style>\n",
       "<table border=\"1\" class=\"dataframe\">\n",
       "  <thead>\n",
       "    <tr style=\"text-align: right;\">\n",
       "      <th></th>\n",
       "      <th>title</th>\n",
       "      <th>tag</th>\n",
       "    </tr>\n",
       "  </thead>\n",
       "  <tbody>\n",
       "    <tr>\n",
       "      <th>427</th>\n",
       "      <td>My personal ranking of Community's use of alte...</td>\n",
       "      <td>COMMUNITY</td>\n",
       "    </tr>\n",
       "    <tr>\n",
       "      <th>477</th>\n",
       "      <td>It took 30 years for climate tech investments ...</td>\n",
       "      <td>ENVIRONMENT</td>\n",
       "    </tr>\n",
       "    <tr>\n",
       "      <th>689</th>\n",
       "      <td>Rain when sitting in a car</td>\n",
       "      <td>RELAX</td>\n",
       "    </tr>\n",
       "    <tr>\n",
       "      <th>850</th>\n",
       "      <td>Is Cassis worth staying in?</td>\n",
       "      <td>TRAVEL</td>\n",
       "    </tr>\n",
       "  </tbody>\n",
       "</table>\n",
       "</div>"
      ],
      "text/plain": [
       "                                                 title          tag\n",
       "427  My personal ranking of Community's use of alte...    COMMUNITY\n",
       "477  It took 30 years for climate tech investments ...  ENVIRONMENT\n",
       "689                         Rain when sitting in a car        RELAX\n",
       "850                        Is Cassis worth staying in?       TRAVEL"
      ]
     },
     "execution_count": 13,
     "metadata": {},
     "output_type": "execute_result"
    }
   ],
   "source": [
    "# Create text-categorized dataset that holds only tags and descriptions\n",
    "# tc stands for text-categorized\n",
    "\n",
    "tc_df = shuffled_df.drop(columns=['author', 'link', 'score', 'created'])\n",
    "\n",
    "tc_df.head(4)"
   ]
  },
  {
   "cell_type": "code",
   "execution_count": 15,
   "metadata": {},
   "outputs": [
    {
     "name": "stdout",
     "output_type": "stream",
     "text": [
      "<class 'pandas.core.frame.DataFrame'>\n",
      "Index: 25763 entries, 427 to 636\n",
      "Data columns (total 2 columns):\n",
      " #   Column  Non-Null Count  Dtype \n",
      "---  ------  --------------  ----- \n",
      " 0   title   25763 non-null  object\n",
      " 1   tag     25763 non-null  object\n",
      "dtypes: object(2)\n",
      "memory usage: 1.6+ MB\n"
     ]
    }
   ],
   "source": [
    "tc_df.to_json('../../output_data/tc_dataset.json', orient='records',  indent=2)\n",
    "\n",
    "tc_df.info()"
   ]
  },
  {
   "cell_type": "code",
   "execution_count": null,
   "metadata": {},
   "outputs": [],
   "source": []
  },
  {
   "cell_type": "code",
   "execution_count": null,
   "metadata": {},
   "outputs": [],
   "source": []
  },
  {
   "cell_type": "code",
   "execution_count": null,
   "metadata": {},
   "outputs": [],
   "source": []
  }
 ],
 "metadata": {
  "kernelspec": {
   "display_name": "Python 3",
   "language": "python",
   "name": "python3"
  },
  "language_info": {
   "codemirror_mode": {
    "name": "ipython",
    "version": 3
   },
   "file_extension": ".py",
   "mimetype": "text/x-python",
   "name": "python",
   "nbconvert_exporter": "python",
   "pygments_lexer": "ipython3",
   "version": "3.11.4"
  },
  "orig_nbformat": 4
 },
 "nbformat": 4,
 "nbformat_minor": 2
}
