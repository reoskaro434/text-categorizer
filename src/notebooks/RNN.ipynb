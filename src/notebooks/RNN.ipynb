{
 "cells": [
  {
   "cell_type": "markdown",
   "metadata": {},
   "source": [
    "W przypadku danych obrazowych często stosuje się architektury typu CNN, natomiast w przypadku danych sekwencyjnych, takich jak język naturalny, RNN lub ich odmiany mogą być bardziej odpowiednie.\n",
    "\n",
    "Liczba Warstw i Neuronów:\n",
    "\n",
    "W sieciach neuronowych, liczba warstw i liczba neuronów w każdej warstwie to hiperparametry.\n",
    "Współczynniki Uczenia (Learning Rates):\n",
    "\n",
    "Określają, jak szybko model się uczy. Wybór odpowiedniego współczynnika uczenia jest kluczowy dla skuteczności procesu uczenia.\n",
    "Współczynniki Regularyzacji:\n",
    "\n",
    "L1 i L2 regularyzacja mogą być kontrolowane za pomocą hiperparametrów, aby zapobiec przetrenowaniu.\n",
    "Rozmiar Batcha:\n",
    "\n",
    "Określa liczbę przykładów danych, która jest używana w jednej iteracji procesu uczenia.\n",
    "Liczba Epok:\n",
    "\n",
    "Oznacza liczbę pełnych przejść przez cały zbiór danych podczas treningu.\n",
    "Funkcje Aktywacji:\n",
    "\n",
    "Wybór funkcji aktywacji, takich jak ReLU, sigmoid czy tanh, to również hiperparametr.\n",
    "Współczynniki Inicjalizacji Wag:\n",
    "\n",
    "Sposób, w jaki są inicjalizowane wagi modelu, może być kontrolowany przez hiperparametry.\n",
    "Typ Optymalizatora:\n",
    "\n",
    "Optymalizatory, takie jak SGD, Adam, czy RMSprop, to również hiperparametry."
   ]
  }
 ],
 "metadata": {
  "kernelspec": {
   "display_name": "Python 3",
   "language": "python",
   "name": "python3"
  },
  "language_info": {
   "codemirror_mode": {
    "name": "ipython",
    "version": 3
   },
   "file_extension": ".py",
   "mimetype": "text/x-python",
   "name": "python",
   "nbconvert_exporter": "python",
   "pygments_lexer": "ipython3",
   "version": "3.11.5"
  },
  "orig_nbformat": 4
 },
 "nbformat": 4,
 "nbformat_minor": 2
}
