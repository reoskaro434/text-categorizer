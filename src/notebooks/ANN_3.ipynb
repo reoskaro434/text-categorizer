{
 "cells": [
  {
   "cell_type": "code",
   "execution_count": 10,
   "metadata": {
    "ExecuteTime": {
     "end_time": "2024-02-03T21:31:08.635685400Z",
     "start_time": "2024-02-03T21:31:06.823397Z"
    }
   },
   "outputs": [
    {
     "name": "stdout",
     "output_type": "stream",
     "text": [
      "<class 'pandas.core.frame.DataFrame'>\n",
      "RangeIndex: 25763 entries, 0 to 25762\n",
      "Columns: 1102 entries, Unnamed: 0 to tag\n",
      "dtypes: float64(1100), int64(1), object(1)\n",
      "memory usage: 216.6+ MB\n"
     ]
    }
   ],
   "source": [
    "import pandas as pd\n",
    "\n",
    "df = pd.read_csv('../../output_data/4_2_vectorized_ds_glove_25.csv')\n",
    "\n",
    "df.info()"
   ]
  },
  {
   "cell_type": "code",
   "execution_count": 11,
   "metadata": {
    "ExecuteTime": {
     "end_time": "2024-02-03T21:31:08.654634300Z",
     "start_time": "2024-02-03T21:31:08.634675800Z"
    }
   },
   "outputs": [
    {
     "data": {
      "text/plain": "   Unnamed: 0   input_0  input_1  input_2   input_3  input_4  input_5  \\\n0           0  0.035234  0.54248 -0.75981 -0.029171  1.94140 -0.17883   \n1           1 -0.398190  0.92849  1.11940 -0.132170 -0.29808 -0.52848   \n2           2 -0.942140 -0.24345  0.20744  0.214930 -1.06640  1.19490   \n3           3 -1.074400 -0.88249  0.27640  0.647550 -0.35475  0.25591   \n4           4 -0.177000  0.43200  0.21391 -0.295150  0.47344 -0.38013   \n\n   input_6  input_7  input_8  ...  input_1091  input_1092  input_1093  \\\n0  0.25397  0.49265 -0.00256  ...         NaN         NaN         NaN   \n1  1.06140 -0.70803 -0.48539  ...         NaN         NaN         NaN   \n2  1.52340 -0.16527  0.35522  ...         NaN         NaN         NaN   \n3 -0.70326 -1.00450  1.19360  ...         NaN         NaN         NaN   \n4  1.60180  0.56238  0.40478  ...         NaN         NaN         NaN   \n\n   input_1094  input_1095  input_1096  input_1097  input_1098  input_1099  \\\n0         NaN         NaN         NaN         NaN         NaN         NaN   \n1         NaN         NaN         NaN         NaN         NaN         NaN   \n2         NaN         NaN         NaN         NaN         NaN         NaN   \n3         NaN         NaN         NaN         NaN         NaN         NaN   \n4         NaN         NaN         NaN         NaN         NaN         NaN   \n\n           tag  \n0    COMMUNITY  \n1  ENVIRONMENT  \n2        RELAX  \n3       TRAVEL  \n4    ASTRONOMY  \n\n[5 rows x 1102 columns]",
      "text/html": "<div>\n<style scoped>\n    .dataframe tbody tr th:only-of-type {\n        vertical-align: middle;\n    }\n\n    .dataframe tbody tr th {\n        vertical-align: top;\n    }\n\n    .dataframe thead th {\n        text-align: right;\n    }\n</style>\n<table border=\"1\" class=\"dataframe\">\n  <thead>\n    <tr style=\"text-align: right;\">\n      <th></th>\n      <th>Unnamed: 0</th>\n      <th>input_0</th>\n      <th>input_1</th>\n      <th>input_2</th>\n      <th>input_3</th>\n      <th>input_4</th>\n      <th>input_5</th>\n      <th>input_6</th>\n      <th>input_7</th>\n      <th>input_8</th>\n      <th>...</th>\n      <th>input_1091</th>\n      <th>input_1092</th>\n      <th>input_1093</th>\n      <th>input_1094</th>\n      <th>input_1095</th>\n      <th>input_1096</th>\n      <th>input_1097</th>\n      <th>input_1098</th>\n      <th>input_1099</th>\n      <th>tag</th>\n    </tr>\n  </thead>\n  <tbody>\n    <tr>\n      <th>0</th>\n      <td>0</td>\n      <td>0.035234</td>\n      <td>0.54248</td>\n      <td>-0.75981</td>\n      <td>-0.029171</td>\n      <td>1.94140</td>\n      <td>-0.17883</td>\n      <td>0.25397</td>\n      <td>0.49265</td>\n      <td>-0.00256</td>\n      <td>...</td>\n      <td>NaN</td>\n      <td>NaN</td>\n      <td>NaN</td>\n      <td>NaN</td>\n      <td>NaN</td>\n      <td>NaN</td>\n      <td>NaN</td>\n      <td>NaN</td>\n      <td>NaN</td>\n      <td>COMMUNITY</td>\n    </tr>\n    <tr>\n      <th>1</th>\n      <td>1</td>\n      <td>-0.398190</td>\n      <td>0.92849</td>\n      <td>1.11940</td>\n      <td>-0.132170</td>\n      <td>-0.29808</td>\n      <td>-0.52848</td>\n      <td>1.06140</td>\n      <td>-0.70803</td>\n      <td>-0.48539</td>\n      <td>...</td>\n      <td>NaN</td>\n      <td>NaN</td>\n      <td>NaN</td>\n      <td>NaN</td>\n      <td>NaN</td>\n      <td>NaN</td>\n      <td>NaN</td>\n      <td>NaN</td>\n      <td>NaN</td>\n      <td>ENVIRONMENT</td>\n    </tr>\n    <tr>\n      <th>2</th>\n      <td>2</td>\n      <td>-0.942140</td>\n      <td>-0.24345</td>\n      <td>0.20744</td>\n      <td>0.214930</td>\n      <td>-1.06640</td>\n      <td>1.19490</td>\n      <td>1.52340</td>\n      <td>-0.16527</td>\n      <td>0.35522</td>\n      <td>...</td>\n      <td>NaN</td>\n      <td>NaN</td>\n      <td>NaN</td>\n      <td>NaN</td>\n      <td>NaN</td>\n      <td>NaN</td>\n      <td>NaN</td>\n      <td>NaN</td>\n      <td>NaN</td>\n      <td>RELAX</td>\n    </tr>\n    <tr>\n      <th>3</th>\n      <td>3</td>\n      <td>-1.074400</td>\n      <td>-0.88249</td>\n      <td>0.27640</td>\n      <td>0.647550</td>\n      <td>-0.35475</td>\n      <td>0.25591</td>\n      <td>-0.70326</td>\n      <td>-1.00450</td>\n      <td>1.19360</td>\n      <td>...</td>\n      <td>NaN</td>\n      <td>NaN</td>\n      <td>NaN</td>\n      <td>NaN</td>\n      <td>NaN</td>\n      <td>NaN</td>\n      <td>NaN</td>\n      <td>NaN</td>\n      <td>NaN</td>\n      <td>TRAVEL</td>\n    </tr>\n    <tr>\n      <th>4</th>\n      <td>4</td>\n      <td>-0.177000</td>\n      <td>0.43200</td>\n      <td>0.21391</td>\n      <td>-0.295150</td>\n      <td>0.47344</td>\n      <td>-0.38013</td>\n      <td>1.60180</td>\n      <td>0.56238</td>\n      <td>0.40478</td>\n      <td>...</td>\n      <td>NaN</td>\n      <td>NaN</td>\n      <td>NaN</td>\n      <td>NaN</td>\n      <td>NaN</td>\n      <td>NaN</td>\n      <td>NaN</td>\n      <td>NaN</td>\n      <td>NaN</td>\n      <td>ASTRONOMY</td>\n    </tr>\n  </tbody>\n</table>\n<p>5 rows × 1102 columns</p>\n</div>"
     },
     "execution_count": 11,
     "metadata": {},
     "output_type": "execute_result"
    }
   ],
   "source": [
    "df.head()"
   ]
  },
  {
   "cell_type": "code",
   "execution_count": 12,
   "metadata": {
    "ExecuteTime": {
     "end_time": "2024-02-03T21:31:08.781043700Z",
     "start_time": "2024-02-03T21:31:08.652596700Z"
    }
   },
   "outputs": [
    {
     "data": {
      "text/plain": "   Unnamed: 0   input_0  input_1  input_2   input_3  input_4  input_5  \\\n0           0  0.035234  0.54248 -0.75981 -0.029171  1.94140 -0.17883   \n1           1 -0.398190  0.92849  1.11940 -0.132170 -0.29808 -0.52848   \n2           2 -0.942140 -0.24345  0.20744  0.214930 -1.06640  1.19490   \n3           3 -1.074400 -0.88249  0.27640  0.647550 -0.35475  0.25591   \n4           4 -0.177000  0.43200  0.21391 -0.295150  0.47344 -0.38013   \n\n   input_6  input_7  input_8  ...  input_1091  input_1092  input_1093  \\\n0  0.25397  0.49265 -0.00256  ...         0.0         0.0         0.0   \n1  1.06140 -0.70803 -0.48539  ...         0.0         0.0         0.0   \n2  1.52340 -0.16527  0.35522  ...         0.0         0.0         0.0   \n3 -0.70326 -1.00450  1.19360  ...         0.0         0.0         0.0   \n4  1.60180  0.56238  0.40478  ...         0.0         0.0         0.0   \n\n   input_1094  input_1095  input_1096  input_1097  input_1098  input_1099  \\\n0         0.0         0.0         0.0         0.0         0.0         0.0   \n1         0.0         0.0         0.0         0.0         0.0         0.0   \n2         0.0         0.0         0.0         0.0         0.0         0.0   \n3         0.0         0.0         0.0         0.0         0.0         0.0   \n4         0.0         0.0         0.0         0.0         0.0         0.0   \n\n           tag  \n0    COMMUNITY  \n1  ENVIRONMENT  \n2        RELAX  \n3       TRAVEL  \n4    ASTRONOMY  \n\n[5 rows x 1102 columns]",
      "text/html": "<div>\n<style scoped>\n    .dataframe tbody tr th:only-of-type {\n        vertical-align: middle;\n    }\n\n    .dataframe tbody tr th {\n        vertical-align: top;\n    }\n\n    .dataframe thead th {\n        text-align: right;\n    }\n</style>\n<table border=\"1\" class=\"dataframe\">\n  <thead>\n    <tr style=\"text-align: right;\">\n      <th></th>\n      <th>Unnamed: 0</th>\n      <th>input_0</th>\n      <th>input_1</th>\n      <th>input_2</th>\n      <th>input_3</th>\n      <th>input_4</th>\n      <th>input_5</th>\n      <th>input_6</th>\n      <th>input_7</th>\n      <th>input_8</th>\n      <th>...</th>\n      <th>input_1091</th>\n      <th>input_1092</th>\n      <th>input_1093</th>\n      <th>input_1094</th>\n      <th>input_1095</th>\n      <th>input_1096</th>\n      <th>input_1097</th>\n      <th>input_1098</th>\n      <th>input_1099</th>\n      <th>tag</th>\n    </tr>\n  </thead>\n  <tbody>\n    <tr>\n      <th>0</th>\n      <td>0</td>\n      <td>0.035234</td>\n      <td>0.54248</td>\n      <td>-0.75981</td>\n      <td>-0.029171</td>\n      <td>1.94140</td>\n      <td>-0.17883</td>\n      <td>0.25397</td>\n      <td>0.49265</td>\n      <td>-0.00256</td>\n      <td>...</td>\n      <td>0.0</td>\n      <td>0.0</td>\n      <td>0.0</td>\n      <td>0.0</td>\n      <td>0.0</td>\n      <td>0.0</td>\n      <td>0.0</td>\n      <td>0.0</td>\n      <td>0.0</td>\n      <td>COMMUNITY</td>\n    </tr>\n    <tr>\n      <th>1</th>\n      <td>1</td>\n      <td>-0.398190</td>\n      <td>0.92849</td>\n      <td>1.11940</td>\n      <td>-0.132170</td>\n      <td>-0.29808</td>\n      <td>-0.52848</td>\n      <td>1.06140</td>\n      <td>-0.70803</td>\n      <td>-0.48539</td>\n      <td>...</td>\n      <td>0.0</td>\n      <td>0.0</td>\n      <td>0.0</td>\n      <td>0.0</td>\n      <td>0.0</td>\n      <td>0.0</td>\n      <td>0.0</td>\n      <td>0.0</td>\n      <td>0.0</td>\n      <td>ENVIRONMENT</td>\n    </tr>\n    <tr>\n      <th>2</th>\n      <td>2</td>\n      <td>-0.942140</td>\n      <td>-0.24345</td>\n      <td>0.20744</td>\n      <td>0.214930</td>\n      <td>-1.06640</td>\n      <td>1.19490</td>\n      <td>1.52340</td>\n      <td>-0.16527</td>\n      <td>0.35522</td>\n      <td>...</td>\n      <td>0.0</td>\n      <td>0.0</td>\n      <td>0.0</td>\n      <td>0.0</td>\n      <td>0.0</td>\n      <td>0.0</td>\n      <td>0.0</td>\n      <td>0.0</td>\n      <td>0.0</td>\n      <td>RELAX</td>\n    </tr>\n    <tr>\n      <th>3</th>\n      <td>3</td>\n      <td>-1.074400</td>\n      <td>-0.88249</td>\n      <td>0.27640</td>\n      <td>0.647550</td>\n      <td>-0.35475</td>\n      <td>0.25591</td>\n      <td>-0.70326</td>\n      <td>-1.00450</td>\n      <td>1.19360</td>\n      <td>...</td>\n      <td>0.0</td>\n      <td>0.0</td>\n      <td>0.0</td>\n      <td>0.0</td>\n      <td>0.0</td>\n      <td>0.0</td>\n      <td>0.0</td>\n      <td>0.0</td>\n      <td>0.0</td>\n      <td>TRAVEL</td>\n    </tr>\n    <tr>\n      <th>4</th>\n      <td>4</td>\n      <td>-0.177000</td>\n      <td>0.43200</td>\n      <td>0.21391</td>\n      <td>-0.295150</td>\n      <td>0.47344</td>\n      <td>-0.38013</td>\n      <td>1.60180</td>\n      <td>0.56238</td>\n      <td>0.40478</td>\n      <td>...</td>\n      <td>0.0</td>\n      <td>0.0</td>\n      <td>0.0</td>\n      <td>0.0</td>\n      <td>0.0</td>\n      <td>0.0</td>\n      <td>0.0</td>\n      <td>0.0</td>\n      <td>0.0</td>\n      <td>ASTRONOMY</td>\n    </tr>\n  </tbody>\n</table>\n<p>5 rows × 1102 columns</p>\n</div>"
     },
     "execution_count": 12,
     "metadata": {},
     "output_type": "execute_result"
    }
   ],
   "source": [
    "df = df.fillna(0)\n",
    "\n",
    "df.head()"
   ]
  },
  {
   "cell_type": "code",
   "execution_count": 13,
   "metadata": {
    "ExecuteTime": {
     "end_time": "2024-02-03T21:31:08.787196100Z",
     "start_time": "2024-02-03T21:31:08.783139900Z"
    }
   },
   "outputs": [],
   "source": [
    "import pandas as pd\n",
    "import numpy as np\n",
    "from sklearn.model_selection import train_test_split\n",
    "from sklearn.preprocessing import LabelEncoder\n",
    "from sklearn.metrics import accuracy_score"
   ]
  },
  {
   "cell_type": "code",
   "execution_count": 14,
   "metadata": {
    "ExecuteTime": {
     "end_time": "2024-02-03T21:31:08.885911700Z",
     "start_time": "2024-02-03T21:31:08.788224Z"
    }
   },
   "outputs": [
    {
     "data": {
      "text/plain": "(25763, 31)"
     },
     "execution_count": 14,
     "metadata": {},
     "output_type": "execute_result"
    }
   ],
   "source": [
    "X = df.drop(['tag', 'Unnamed: 0'], axis=1)\n",
    "y = df['tag']\n",
    "\n",
    "y = pd.get_dummies(y)\n",
    "\n",
    "y = y.astype('float32')\n",
    "\n",
    "y.shape"
   ]
  },
  {
   "cell_type": "code",
   "execution_count": 15,
   "metadata": {
    "ExecuteTime": {
     "end_time": "2024-02-03T21:31:08.885911700Z",
     "start_time": "2024-02-03T21:31:08.857828100Z"
    }
   },
   "outputs": [
    {
     "data": {
      "text/plain": "1100"
     },
     "execution_count": 15,
     "metadata": {},
     "output_type": "execute_result"
    }
   ],
   "source": [
    "x_shape = X.shape[1]\n",
    "\n",
    "x_shape"
   ]
  },
  {
   "cell_type": "code",
   "execution_count": 16,
   "metadata": {
    "ExecuteTime": {
     "end_time": "2024-02-03T21:31:09.081893Z",
     "start_time": "2024-02-03T21:31:08.864254700Z"
    }
   },
   "outputs": [
    {
     "name": "stdout",
     "output_type": "stream",
     "text": [
      "<class 'pandas.core.frame.DataFrame'>\n",
      "Index: 20610 entries, 3043 to 23654\n",
      "Columns: 1100 entries, input_0 to input_1099\n",
      "dtypes: float64(1100)\n",
      "memory usage: 173.1 MB\n",
      "None\n",
      "<class 'pandas.core.frame.DataFrame'>\n",
      "Index: 5153 entries, 2141 to 13238\n",
      "Columns: 1100 entries, input_0 to input_1099\n",
      "dtypes: float64(1100)\n",
      "memory usage: 43.3 MB\n",
      "None\n"
     ]
    }
   ],
   "source": [
    "X_train, X_test, y_train, y_test = train_test_split(X, y, test_size=0.2, random_state=42)\n",
    "\n",
    "print(X_train.info())\n",
    "print(X_test.info())"
   ]
  },
  {
   "cell_type": "markdown",
   "metadata": {},
   "source": [
    "Test nr 3"
   ]
  },
  {
   "cell_type": "code",
   "execution_count": 17,
   "metadata": {
    "ExecuteTime": {
     "end_time": "2024-02-03T21:31:09.096650500Z",
     "start_time": "2024-02-03T21:31:09.079868300Z"
    }
   },
   "outputs": [],
   "source": [
    "import tensorflow as tf\n",
    "\n",
    "model = tf.keras.models.Sequential()\n",
    "\n",
    "model.add(tf.keras.layers.Dense(1100, activation='sigmoid'))\n",
    "model.add(tf.keras.layers.Dense(2200, activation='sigmoid'))\n",
    "model.add(tf.keras.layers.Dense(1100, activation='sigmoid'))\n",
    "model.add(tf.keras.layers.Dense(31, activation='softmax'))\n",
    "\n",
    "model.compile(\n",
    "    optimizer=tf.keras.optimizers.Adam(learning_rate=0.001),\n",
    "    loss=tf.keras.losses.CategoricalCrossentropy(),\n",
    "    metrics=['accuracy'] \n",
    "    )"
   ]
  },
  {
   "cell_type": "code",
   "execution_count": 18,
   "metadata": {
    "ExecuteTime": {
     "end_time": "2024-02-03T21:36:31.497124400Z",
     "start_time": "2024-02-03T21:31:09.096650500Z"
    }
   },
   "outputs": [
    {
     "name": "stdout",
     "output_type": "stream",
     "text": [
      "Epoch 1/10\n",
      "645/645 [==============================] - 28s 43ms/step - loss: 2.7545 - accuracy: 0.2105 - val_loss: 2.2350 - val_accuracy: 0.3381\n",
      "Epoch 2/10\n",
      "645/645 [==============================] - 28s 43ms/step - loss: 2.0801 - accuracy: 0.3881 - val_loss: 1.9969 - val_accuracy: 0.4124\n",
      "Epoch 3/10\n",
      "645/645 [==============================] - 27s 42ms/step - loss: 1.8969 - accuracy: 0.4419 - val_loss: 1.9441 - val_accuracy: 0.4312\n",
      "Epoch 4/10\n",
      "645/645 [==============================] - 33s 52ms/step - loss: 1.7684 - accuracy: 0.4825 - val_loss: 1.8920 - val_accuracy: 0.4460\n",
      "Epoch 5/10\n",
      "645/645 [==============================] - 41s 63ms/step - loss: 1.6602 - accuracy: 0.5097 - val_loss: 1.8836 - val_accuracy: 0.4531\n",
      "Epoch 6/10\n",
      "645/645 [==============================] - 43s 66ms/step - loss: 1.5540 - accuracy: 0.5413 - val_loss: 1.8967 - val_accuracy: 0.4613\n",
      "Epoch 7/10\n",
      "645/645 [==============================] - 32s 50ms/step - loss: 1.4530 - accuracy: 0.5694 - val_loss: 1.8886 - val_accuracy: 0.4679\n",
      "Epoch 8/10\n",
      "645/645 [==============================] - 31s 48ms/step - loss: 1.3539 - accuracy: 0.5950 - val_loss: 1.9169 - val_accuracy: 0.4729\n",
      "Epoch 9/10\n",
      "645/645 [==============================] - 30s 46ms/step - loss: 1.2526 - accuracy: 0.6249 - val_loss: 1.9669 - val_accuracy: 0.4780\n",
      "Epoch 10/10\n",
      "645/645 [==============================] - 30s 47ms/step - loss: 1.1460 - accuracy: 0.6554 - val_loss: 2.0775 - val_accuracy: 0.4681\n"
     ]
    },
    {
     "data": {
      "text/plain": "<keras.src.callbacks.History at 0x13b12029190>"
     },
     "execution_count": 18,
     "metadata": {},
     "output_type": "execute_result"
    }
   ],
   "source": [
    "model.fit(X_train, y_train, validation_data=(X_test, y_test), batch_size=32, epochs=10)"
   ]
  },
  {
   "cell_type": "code",
   "execution_count": 19,
   "metadata": {
    "ExecuteTime": {
     "end_time": "2024-02-03T21:36:32.988581400Z",
     "start_time": "2024-02-03T21:36:31.460427500Z"
    }
   },
   "outputs": [
    {
     "name": "stdout",
     "output_type": "stream",
     "text": [
      "162/162 [==============================] - 1s 7ms/step\n",
      "Accuracy: 0.46807684843780323\n"
     ]
    }
   ],
   "source": [
    "y_pred = np.argmax(model.predict(X_test), axis=1)\n",
    "\n",
    "y_test_labels = np.argmax(y_test.values, axis=1)\n",
    "\n",
    "accuracy = accuracy_score(y_test_labels, y_pred)\n",
    "print(f'Accuracy: {accuracy}')"
   ]
  },
  {
   "cell_type": "code",
   "execution_count": 20,
   "outputs": [
    {
     "name": "stdout",
     "output_type": "stream",
     "text": [
      "INFO:tensorflow:Assets written to: ../../saved_models/rnn_ann_3\\assets\n"
     ]
    },
    {
     "name": "stderr",
     "output_type": "stream",
     "text": [
      "INFO:tensorflow:Assets written to: ../../saved_models/rnn_ann_3\\assets\n"
     ]
    }
   ],
   "source": [
    "model.save('../../saved_models/ann_3')"
   ],
   "metadata": {
    "collapsed": false,
    "ExecuteTime": {
     "end_time": "2024-02-03T21:36:34.209561Z",
     "start_time": "2024-02-03T21:36:32.974060Z"
    }
   }
  }
 ],
 "metadata": {
  "kernelspec": {
   "display_name": "Python 3",
   "language": "python",
   "name": "python3"
  },
  "language_info": {
   "codemirror_mode": {
    "name": "ipython",
    "version": 3
   },
   "file_extension": ".py",
   "mimetype": "text/x-python",
   "name": "python",
   "nbconvert_exporter": "python",
   "pygments_lexer": "ipython3",
   "version": "3.11.5"
  },
  "orig_nbformat": 4
 },
 "nbformat": 4,
 "nbformat_minor": 2
}
